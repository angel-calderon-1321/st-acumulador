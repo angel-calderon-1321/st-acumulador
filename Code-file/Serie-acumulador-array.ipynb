{
 "cells": [
  {
   "cell_type": "markdown",
   "metadata": {},
   "source": [
    "# Serie Temporal: Acumulador\n",
    "Version Array"
   ]
  },
  {
   "cell_type": "code",
   "execution_count": 2,
   "metadata": {},
   "outputs": [],
   "source": [
    "import pandas as pd\n",
    "import numpy as np\n",
    "import matplotlib.pyplot as plt\n",
    "import os\n",
    "# Formatear las fechas en el eje x para mostrar solo horas, minutos y segundos\n",
    "import matplotlib.dates as mdates "
   ]
  },
  {
   "cell_type": "markdown",
   "metadata": {},
   "source": [
    "Cada archivo Excel representa mediciones de temperatura realizadas en diferentes días. Las mediciones de temperatura no fueron tomadas en días consecutivos, sino en días específicos distribuidos en diferentes meses. Por ejemplo, en noviembre se tomó un día, en diciembre en otro día, y así sucesivamente hasta tener 11 archivos de datos.\n",
    "\n",
    "Dado que las mediciones no son tomadas diariamente, es importante tener en cuenta esta discontinuidad al analizar la serie temporal. Podríamos explorar cómo la frecuencia de muestreo irregular podría afectar los análisis y las conclusiones que podemos extraer de los datos.\n",
    "\n",
    "Cada archivo Excel contiene datos de mediciones de temperatura representados por 9 columnas, donde cada columna corresponde a una ubicación de medición diferente (T1, T2, T3, ..., T9), y las filas representan el tiempo en segundos, cubriendo un período total de ocho horas."
   ]
  },
  {
   "cell_type": "code",
   "execution_count": null,
   "metadata": {},
   "outputs": [],
   "source": []
  }
 ],
 "metadata": {
  "kernelspec": {
   "display_name": "machine",
   "language": "python",
   "name": "python3"
  },
  "language_info": {
   "codemirror_mode": {
    "name": "ipython",
    "version": 3
   },
   "file_extension": ".py",
   "mimetype": "text/x-python",
   "name": "python",
   "nbconvert_exporter": "python",
   "pygments_lexer": "ipython3",
   "version": "3.9.6"
  }
 },
 "nbformat": 4,
 "nbformat_minor": 2
}
